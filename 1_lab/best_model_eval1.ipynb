{
 "cells": [
  {
   "cell_type": "code",
   "execution_count": 1,
   "metadata": {},
   "outputs": [],
   "source": [
    "from collections import defaultdict\n",
    "\n",
    "import torch\n",
    "from torchvision import datasets, transforms\n",
    "from torch.utils.data import DataLoader\n",
    "from torchvision.models import resnet50\n",
    "from sklearn.metrics import recall_score, precision_score, f1_score\n",
    "from sklearn.metrics import confusion_matrix\n",
    "import matplotlib.pyplot as plt"
   ]
  },
  {
   "cell_type": "code",
   "execution_count": 2,
   "metadata": {},
   "outputs": [
    {
     "data": {
      "text/plain": [
       "'cuda'"
      ]
     },
     "execution_count": 2,
     "metadata": {},
     "output_type": "execute_result"
    }
   ],
   "source": [
    "device = \"cuda\" if torch.cuda.is_available() else \"cpu\"\n",
    "device"
   ]
  },
  {
   "cell_type": "code",
   "execution_count": 3,
   "metadata": {
    "scrolled": true
   },
   "outputs": [
    {
     "data": {
      "text/plain": [
       "ResNet(\n",
       "  (conv1): Conv2d(3, 64, kernel_size=(7, 7), stride=(2, 2), padding=(3, 3), bias=False)\n",
       "  (bn1): BatchNorm2d(64, eps=1e-05, momentum=0.1, affine=True, track_running_stats=True)\n",
       "  (relu): ReLU(inplace=True)\n",
       "  (maxpool): MaxPool2d(kernel_size=3, stride=2, padding=1, dilation=1, ceil_mode=False)\n",
       "  (layer1): Sequential(\n",
       "    (0): Bottleneck(\n",
       "      (conv1): Conv2d(64, 64, kernel_size=(1, 1), stride=(1, 1), bias=False)\n",
       "      (bn1): BatchNorm2d(64, eps=1e-05, momentum=0.1, affine=True, track_running_stats=True)\n",
       "      (conv2): Conv2d(64, 64, kernel_size=(3, 3), stride=(1, 1), padding=(1, 1), bias=False)\n",
       "      (bn2): BatchNorm2d(64, eps=1e-05, momentum=0.1, affine=True, track_running_stats=True)\n",
       "      (conv3): Conv2d(64, 256, kernel_size=(1, 1), stride=(1, 1), bias=False)\n",
       "      (bn3): BatchNorm2d(256, eps=1e-05, momentum=0.1, affine=True, track_running_stats=True)\n",
       "      (relu): ReLU(inplace=True)\n",
       "      (downsample): Sequential(\n",
       "        (0): Conv2d(64, 256, kernel_size=(1, 1), stride=(1, 1), bias=False)\n",
       "        (1): BatchNorm2d(256, eps=1e-05, momentum=0.1, affine=True, track_running_stats=True)\n",
       "      )\n",
       "    )\n",
       "    (1): Bottleneck(\n",
       "      (conv1): Conv2d(256, 64, kernel_size=(1, 1), stride=(1, 1), bias=False)\n",
       "      (bn1): BatchNorm2d(64, eps=1e-05, momentum=0.1, affine=True, track_running_stats=True)\n",
       "      (conv2): Conv2d(64, 64, kernel_size=(3, 3), stride=(1, 1), padding=(1, 1), bias=False)\n",
       "      (bn2): BatchNorm2d(64, eps=1e-05, momentum=0.1, affine=True, track_running_stats=True)\n",
       "      (conv3): Conv2d(64, 256, kernel_size=(1, 1), stride=(1, 1), bias=False)\n",
       "      (bn3): BatchNorm2d(256, eps=1e-05, momentum=0.1, affine=True, track_running_stats=True)\n",
       "      (relu): ReLU(inplace=True)\n",
       "    )\n",
       "    (2): Bottleneck(\n",
       "      (conv1): Conv2d(256, 64, kernel_size=(1, 1), stride=(1, 1), bias=False)\n",
       "      (bn1): BatchNorm2d(64, eps=1e-05, momentum=0.1, affine=True, track_running_stats=True)\n",
       "      (conv2): Conv2d(64, 64, kernel_size=(3, 3), stride=(1, 1), padding=(1, 1), bias=False)\n",
       "      (bn2): BatchNorm2d(64, eps=1e-05, momentum=0.1, affine=True, track_running_stats=True)\n",
       "      (conv3): Conv2d(64, 256, kernel_size=(1, 1), stride=(1, 1), bias=False)\n",
       "      (bn3): BatchNorm2d(256, eps=1e-05, momentum=0.1, affine=True, track_running_stats=True)\n",
       "      (relu): ReLU(inplace=True)\n",
       "    )\n",
       "  )\n",
       "  (layer2): Sequential(\n",
       "    (0): Bottleneck(\n",
       "      (conv1): Conv2d(256, 128, kernel_size=(1, 1), stride=(1, 1), bias=False)\n",
       "      (bn1): BatchNorm2d(128, eps=1e-05, momentum=0.1, affine=True, track_running_stats=True)\n",
       "      (conv2): Conv2d(128, 128, kernel_size=(3, 3), stride=(2, 2), padding=(1, 1), bias=False)\n",
       "      (bn2): BatchNorm2d(128, eps=1e-05, momentum=0.1, affine=True, track_running_stats=True)\n",
       "      (conv3): Conv2d(128, 512, kernel_size=(1, 1), stride=(1, 1), bias=False)\n",
       "      (bn3): BatchNorm2d(512, eps=1e-05, momentum=0.1, affine=True, track_running_stats=True)\n",
       "      (relu): ReLU(inplace=True)\n",
       "      (downsample): Sequential(\n",
       "        (0): Conv2d(256, 512, kernel_size=(1, 1), stride=(2, 2), bias=False)\n",
       "        (1): BatchNorm2d(512, eps=1e-05, momentum=0.1, affine=True, track_running_stats=True)\n",
       "      )\n",
       "    )\n",
       "    (1): Bottleneck(\n",
       "      (conv1): Conv2d(512, 128, kernel_size=(1, 1), stride=(1, 1), bias=False)\n",
       "      (bn1): BatchNorm2d(128, eps=1e-05, momentum=0.1, affine=True, track_running_stats=True)\n",
       "      (conv2): Conv2d(128, 128, kernel_size=(3, 3), stride=(1, 1), padding=(1, 1), bias=False)\n",
       "      (bn2): BatchNorm2d(128, eps=1e-05, momentum=0.1, affine=True, track_running_stats=True)\n",
       "      (conv3): Conv2d(128, 512, kernel_size=(1, 1), stride=(1, 1), bias=False)\n",
       "      (bn3): BatchNorm2d(512, eps=1e-05, momentum=0.1, affine=True, track_running_stats=True)\n",
       "      (relu): ReLU(inplace=True)\n",
       "    )\n",
       "    (2): Bottleneck(\n",
       "      (conv1): Conv2d(512, 128, kernel_size=(1, 1), stride=(1, 1), bias=False)\n",
       "      (bn1): BatchNorm2d(128, eps=1e-05, momentum=0.1, affine=True, track_running_stats=True)\n",
       "      (conv2): Conv2d(128, 128, kernel_size=(3, 3), stride=(1, 1), padding=(1, 1), bias=False)\n",
       "      (bn2): BatchNorm2d(128, eps=1e-05, momentum=0.1, affine=True, track_running_stats=True)\n",
       "      (conv3): Conv2d(128, 512, kernel_size=(1, 1), stride=(1, 1), bias=False)\n",
       "      (bn3): BatchNorm2d(512, eps=1e-05, momentum=0.1, affine=True, track_running_stats=True)\n",
       "      (relu): ReLU(inplace=True)\n",
       "    )\n",
       "    (3): Bottleneck(\n",
       "      (conv1): Conv2d(512, 128, kernel_size=(1, 1), stride=(1, 1), bias=False)\n",
       "      (bn1): BatchNorm2d(128, eps=1e-05, momentum=0.1, affine=True, track_running_stats=True)\n",
       "      (conv2): Conv2d(128, 128, kernel_size=(3, 3), stride=(1, 1), padding=(1, 1), bias=False)\n",
       "      (bn2): BatchNorm2d(128, eps=1e-05, momentum=0.1, affine=True, track_running_stats=True)\n",
       "      (conv3): Conv2d(128, 512, kernel_size=(1, 1), stride=(1, 1), bias=False)\n",
       "      (bn3): BatchNorm2d(512, eps=1e-05, momentum=0.1, affine=True, track_running_stats=True)\n",
       "      (relu): ReLU(inplace=True)\n",
       "    )\n",
       "  )\n",
       "  (layer3): Sequential(\n",
       "    (0): Bottleneck(\n",
       "      (conv1): Conv2d(512, 256, kernel_size=(1, 1), stride=(1, 1), bias=False)\n",
       "      (bn1): BatchNorm2d(256, eps=1e-05, momentum=0.1, affine=True, track_running_stats=True)\n",
       "      (conv2): Conv2d(256, 256, kernel_size=(3, 3), stride=(2, 2), padding=(1, 1), bias=False)\n",
       "      (bn2): BatchNorm2d(256, eps=1e-05, momentum=0.1, affine=True, track_running_stats=True)\n",
       "      (conv3): Conv2d(256, 1024, kernel_size=(1, 1), stride=(1, 1), bias=False)\n",
       "      (bn3): BatchNorm2d(1024, eps=1e-05, momentum=0.1, affine=True, track_running_stats=True)\n",
       "      (relu): ReLU(inplace=True)\n",
       "      (downsample): Sequential(\n",
       "        (0): Conv2d(512, 1024, kernel_size=(1, 1), stride=(2, 2), bias=False)\n",
       "        (1): BatchNorm2d(1024, eps=1e-05, momentum=0.1, affine=True, track_running_stats=True)\n",
       "      )\n",
       "    )\n",
       "    (1): Bottleneck(\n",
       "      (conv1): Conv2d(1024, 256, kernel_size=(1, 1), stride=(1, 1), bias=False)\n",
       "      (bn1): BatchNorm2d(256, eps=1e-05, momentum=0.1, affine=True, track_running_stats=True)\n",
       "      (conv2): Conv2d(256, 256, kernel_size=(3, 3), stride=(1, 1), padding=(1, 1), bias=False)\n",
       "      (bn2): BatchNorm2d(256, eps=1e-05, momentum=0.1, affine=True, track_running_stats=True)\n",
       "      (conv3): Conv2d(256, 1024, kernel_size=(1, 1), stride=(1, 1), bias=False)\n",
       "      (bn3): BatchNorm2d(1024, eps=1e-05, momentum=0.1, affine=True, track_running_stats=True)\n",
       "      (relu): ReLU(inplace=True)\n",
       "    )\n",
       "    (2): Bottleneck(\n",
       "      (conv1): Conv2d(1024, 256, kernel_size=(1, 1), stride=(1, 1), bias=False)\n",
       "      (bn1): BatchNorm2d(256, eps=1e-05, momentum=0.1, affine=True, track_running_stats=True)\n",
       "      (conv2): Conv2d(256, 256, kernel_size=(3, 3), stride=(1, 1), padding=(1, 1), bias=False)\n",
       "      (bn2): BatchNorm2d(256, eps=1e-05, momentum=0.1, affine=True, track_running_stats=True)\n",
       "      (conv3): Conv2d(256, 1024, kernel_size=(1, 1), stride=(1, 1), bias=False)\n",
       "      (bn3): BatchNorm2d(1024, eps=1e-05, momentum=0.1, affine=True, track_running_stats=True)\n",
       "      (relu): ReLU(inplace=True)\n",
       "    )\n",
       "    (3): Bottleneck(\n",
       "      (conv1): Conv2d(1024, 256, kernel_size=(1, 1), stride=(1, 1), bias=False)\n",
       "      (bn1): BatchNorm2d(256, eps=1e-05, momentum=0.1, affine=True, track_running_stats=True)\n",
       "      (conv2): Conv2d(256, 256, kernel_size=(3, 3), stride=(1, 1), padding=(1, 1), bias=False)\n",
       "      (bn2): BatchNorm2d(256, eps=1e-05, momentum=0.1, affine=True, track_running_stats=True)\n",
       "      (conv3): Conv2d(256, 1024, kernel_size=(1, 1), stride=(1, 1), bias=False)\n",
       "      (bn3): BatchNorm2d(1024, eps=1e-05, momentum=0.1, affine=True, track_running_stats=True)\n",
       "      (relu): ReLU(inplace=True)\n",
       "    )\n",
       "    (4): Bottleneck(\n",
       "      (conv1): Conv2d(1024, 256, kernel_size=(1, 1), stride=(1, 1), bias=False)\n",
       "      (bn1): BatchNorm2d(256, eps=1e-05, momentum=0.1, affine=True, track_running_stats=True)\n",
       "      (conv2): Conv2d(256, 256, kernel_size=(3, 3), stride=(1, 1), padding=(1, 1), bias=False)\n",
       "      (bn2): BatchNorm2d(256, eps=1e-05, momentum=0.1, affine=True, track_running_stats=True)\n",
       "      (conv3): Conv2d(256, 1024, kernel_size=(1, 1), stride=(1, 1), bias=False)\n",
       "      (bn3): BatchNorm2d(1024, eps=1e-05, momentum=0.1, affine=True, track_running_stats=True)\n",
       "      (relu): ReLU(inplace=True)\n",
       "    )\n",
       "    (5): Bottleneck(\n",
       "      (conv1): Conv2d(1024, 256, kernel_size=(1, 1), stride=(1, 1), bias=False)\n",
       "      (bn1): BatchNorm2d(256, eps=1e-05, momentum=0.1, affine=True, track_running_stats=True)\n",
       "      (conv2): Conv2d(256, 256, kernel_size=(3, 3), stride=(1, 1), padding=(1, 1), bias=False)\n",
       "      (bn2): BatchNorm2d(256, eps=1e-05, momentum=0.1, affine=True, track_running_stats=True)\n",
       "      (conv3): Conv2d(256, 1024, kernel_size=(1, 1), stride=(1, 1), bias=False)\n",
       "      (bn3): BatchNorm2d(1024, eps=1e-05, momentum=0.1, affine=True, track_running_stats=True)\n",
       "      (relu): ReLU(inplace=True)\n",
       "    )\n",
       "  )\n",
       "  (layer4): Sequential(\n",
       "    (0): Bottleneck(\n",
       "      (conv1): Conv2d(1024, 512, kernel_size=(1, 1), stride=(1, 1), bias=False)\n",
       "      (bn1): BatchNorm2d(512, eps=1e-05, momentum=0.1, affine=True, track_running_stats=True)\n",
       "      (conv2): Conv2d(512, 512, kernel_size=(3, 3), stride=(2, 2), padding=(1, 1), bias=False)\n",
       "      (bn2): BatchNorm2d(512, eps=1e-05, momentum=0.1, affine=True, track_running_stats=True)\n",
       "      (conv3): Conv2d(512, 2048, kernel_size=(1, 1), stride=(1, 1), bias=False)\n",
       "      (bn3): BatchNorm2d(2048, eps=1e-05, momentum=0.1, affine=True, track_running_stats=True)\n",
       "      (relu): ReLU(inplace=True)\n",
       "      (downsample): Sequential(\n",
       "        (0): Conv2d(1024, 2048, kernel_size=(1, 1), stride=(2, 2), bias=False)\n",
       "        (1): BatchNorm2d(2048, eps=1e-05, momentum=0.1, affine=True, track_running_stats=True)\n",
       "      )\n",
       "    )\n",
       "    (1): Bottleneck(\n",
       "      (conv1): Conv2d(2048, 512, kernel_size=(1, 1), stride=(1, 1), bias=False)\n",
       "      (bn1): BatchNorm2d(512, eps=1e-05, momentum=0.1, affine=True, track_running_stats=True)\n",
       "      (conv2): Conv2d(512, 512, kernel_size=(3, 3), stride=(1, 1), padding=(1, 1), bias=False)\n",
       "      (bn2): BatchNorm2d(512, eps=1e-05, momentum=0.1, affine=True, track_running_stats=True)\n",
       "      (conv3): Conv2d(512, 2048, kernel_size=(1, 1), stride=(1, 1), bias=False)\n",
       "      (bn3): BatchNorm2d(2048, eps=1e-05, momentum=0.1, affine=True, track_running_stats=True)\n",
       "      (relu): ReLU(inplace=True)\n",
       "    )\n",
       "    (2): Bottleneck(\n",
       "      (conv1): Conv2d(2048, 512, kernel_size=(1, 1), stride=(1, 1), bias=False)\n",
       "      (bn1): BatchNorm2d(512, eps=1e-05, momentum=0.1, affine=True, track_running_stats=True)\n",
       "      (conv2): Conv2d(512, 512, kernel_size=(3, 3), stride=(1, 1), padding=(1, 1), bias=False)\n",
       "      (bn2): BatchNorm2d(512, eps=1e-05, momentum=0.1, affine=True, track_running_stats=True)\n",
       "      (conv3): Conv2d(512, 2048, kernel_size=(1, 1), stride=(1, 1), bias=False)\n",
       "      (bn3): BatchNorm2d(2048, eps=1e-05, momentum=0.1, affine=True, track_running_stats=True)\n",
       "      (relu): ReLU(inplace=True)\n",
       "    )\n",
       "  )\n",
       "  (avgpool): AdaptiveAvgPool2d(output_size=(1, 1))\n",
       "  (fc): Linear(in_features=2048, out_features=42, bias=True)\n",
       ")"
      ]
     },
     "execution_count": 3,
     "metadata": {},
     "output_type": "execute_result"
    }
   ],
   "source": [
    "model = resnet50()\n",
    "model.fc = torch.nn.Linear(model.fc.in_features, 42)\n",
    "\n",
    "model.load_state_dict(torch.load('best_model_state_dict_wCE.pth'))\n",
    "model = model.to(device)\n",
    "model.eval()"
   ]
  },
  {
   "cell_type": "code",
   "execution_count": 4,
   "metadata": {},
   "outputs": [],
   "source": [
    "test_transform = transforms.Compose([\n",
    "    transforms.Resize((224,224)),\n",
    "    transforms.ToTensor()\n",
    "])"
   ]
  },
  {
   "cell_type": "code",
   "execution_count": 5,
   "metadata": {},
   "outputs": [],
   "source": [
    "test_dataset = datasets.ImageFolder(root='orig_dataset_norm_val/test/',\n",
    "                                     transform=test_transform)"
   ]
  },
  {
   "cell_type": "code",
   "execution_count": 6,
   "metadata": {},
   "outputs": [],
   "source": [
    "test_dataloader = DataLoader(dataset=test_dataset,\n",
    "                              batch_size=1,\n",
    "                              shuffle=False)"
   ]
  },
  {
   "cell_type": "code",
   "execution_count": 7,
   "metadata": {},
   "outputs": [
    {
     "name": "stdout",
     "output_type": "stream",
     "text": [
      "4381 images, 42 classes\n"
     ]
    }
   ],
   "source": [
    "print(f\"{len(test_dataset)} images, {len(test_dataset.classes)} classes\")"
   ]
  },
  {
   "cell_type": "code",
   "execution_count": 8,
   "metadata": {},
   "outputs": [],
   "source": [
    "class_names = test_dataset.classes"
   ]
  },
  {
   "cell_type": "code",
   "execution_count": 9,
   "metadata": {},
   "outputs": [],
   "source": [
    "all_preds = []\n",
    "all_labels = []\n",
    "\n",
    "with torch.no_grad():\n",
    "    for X, y in test_dataloader:\n",
    "        X = X.to(device)\n",
    "        preds = model(X)\n",
    "        preds = preds.cpu().detach()\n",
    "        preds = torch.argmax(preds, dim=1)\n",
    "        all_preds.extend(preds.numpy())\n",
    "        all_labels.extend(y.numpy())"
   ]
  },
  {
   "cell_type": "code",
   "execution_count": 14,
   "metadata": {},
   "outputs": [],
   "source": [
    "def class_accuracy_and_f1(all_preds, all_labels):\n",
    "  f1_scores = []\n",
    "  avg_accuracy = 0.0\n",
    "\n",
    "  class_correct = defaultdict(int)\n",
    "  class_total = defaultdict(int)\n",
    "\n",
    "  for true_label, pred_label in zip(all_labels, all_preds):\n",
    "      class_correct[true_label] += (true_label == pred_label)\n",
    "      class_total[true_label] += 1\n",
    "\n",
    "  f1_scores = f1_score(all_labels, all_preds, average=None, labels=list(range(len(class_names))))\n",
    "  for class_label in sorted(class_correct.keys()):\n",
    "      accuracy = class_correct[class_label] / class_total[class_label]\n",
    "      avg_accuracy += accuracy\n",
    "      print(f\"Class {class_label} {class_names[class_label]}   :  Accuracy  {100*accuracy:.4f}%,   F1-Score  {f1_scores[class_label]:.4f}\")\n",
    "  avg_accuracy /= len(class_names)\n",
    "  avg_f1 = f1_score(all_labels, all_preds, average='weighted')\n",
    "  print(f\"Average accuracy: {avg_accuracy}\\n\")\n",
    "  print(f\"Average F1-Score: {avg_f1}\")"
   ]
  },
  {
   "cell_type": "code",
   "execution_count": 11,
   "metadata": {},
   "outputs": [],
   "source": [
    "def class_precision_and_recall(all_preds, all_labels):\n",
    "    precision_scores = precision_score(all_labels, all_preds, average=None, labels=list(range(len(class_names))))\n",
    "    recall_scores = recall_score(all_labels, all_preds, average=None, labels=list(range(len(class_names))))\n",
    "    for class_label in range(len(class_names)):\n",
    "        print(f\"Class {class_label} {class_names[class_label]}   :  Precision  {100*precision_scores[class_label]:.4f}%,   Recall  {100*recall_scores[class_label]:.4f}%\")\n",
    "\n",
    "    avg_precision = precision_score(all_labels, all_preds, average='macro')\n",
    "    avg_recall = recall_score(all_labels, all_preds, average='macro')\n",
    "\n",
    "    print(f\"Average precision: {avg_precision:.4f}\")\n",
    "    print(f\"Average recall: {avg_recall:.4f}\\n\")"
   ]
  },
  {
   "cell_type": "code",
   "execution_count": 12,
   "metadata": {},
   "outputs": [
    {
     "name": "stdout",
     "output_type": "stream",
     "text": [
      "Class 0 abraham_grampa_simpson   :  Precision  98.8889%,   Recall  97.2678%\n",
      "Class 1 agnes_skinner   :  Precision  100.0000%,   Recall  86.9565%\n",
      "Class 2 apu_nahasapeemapetilon   :  Precision  99.1935%,   Recall  98.4000%\n",
      "Class 3 barney_gumble   :  Precision  90.9091%,   Recall  90.9091%\n",
      "Class 4 bart_simpson   :  Precision  95.2899%,   Recall  97.7695%\n",
      "Class 5 carl_carlson   :  Precision  100.0000%,   Recall  100.0000%\n",
      "Class 6 charles_montgomery_burns   :  Precision  91.3725%,   Recall  97.4895%\n",
      "Class 7 chief_wiggum   :  Precision  93.7500%,   Recall  98.4848%\n",
      "Class 8 cletus_spuckler   :  Precision  96.0000%,   Recall  96.0000%\n",
      "Class 9 comic_book_guy   :  Precision  93.9394%,   Recall  98.9362%\n",
      "Class 10 disco_stu   :  Precision  100.0000%,   Recall  75.0000%\n",
      "Class 11 edna_krabappel   :  Precision  94.6809%,   Recall  96.7391%\n",
      "Class 12 fat_tony   :  Precision  92.3077%,   Recall  57.1429%\n",
      "Class 13 gil   :  Precision  100.0000%,   Recall  85.7143%\n",
      "Class 14 groundskeeper_willie   :  Precision  92.3077%,   Recall  96.0000%\n",
      "Class 15 homer_simpson   :  Precision  96.4444%,   Recall  96.4444%\n",
      "Class 16 kent_brockman   :  Precision  95.1923%,   Recall  99.0000%\n",
      "Class 17 krusty_the_clown   :  Precision  96.3855%,   Recall  99.1736%\n",
      "Class 18 lenny_leonard   :  Precision  91.1765%,   Recall  100.0000%\n",
      "Class 19 lionel_hutz   :  Precision  0.0000%,   Recall  0.0000%\n",
      "Class 20 lisa_simpson   :  Precision  98.1203%,   Recall  96.3100%\n",
      "Class 21 maggie_simpson   :  Precision  91.6667%,   Recall  84.6154%\n",
      "Class 22 marge_simpson   :  Precision  98.4556%,   Recall  98.4556%\n",
      "Class 23 martin_prince   :  Precision  85.7143%,   Recall  80.0000%\n",
      "Class 24 mayor_quimby   :  Precision  93.8776%,   Recall  92.0000%\n",
      "Class 25 milhouse_van_houten   :  Precision  99.5349%,   Recall  99.0741%\n",
      "Class 26 miss_hoover   :  Precision  100.0000%,   Recall  52.6316%\n",
      "Class 27 moe_szyslak   :  Precision  97.8339%,   Recall  93.1271%\n",
      "Class 28 ned_flanders   :  Precision  97.9167%,   Recall  96.9072%\n",
      "Class 29 nelson_muntz   :  Precision  84.7059%,   Recall  100.0000%\n",
      "Class 30 otto_mann   :  Precision  100.0000%,   Recall  90.9091%\n",
      "Class 31 patty_bouvier   :  Precision  63.6364%,   Recall  93.3333%\n",
      "Class 32 principal_skinner   :  Precision  97.4684%,   Recall  96.6527%\n",
      "Class 33 professor_john_frink   :  Precision  88.2353%,   Recall  100.0000%\n",
      "Class 34 rainier_wolfcastle   :  Precision  87.5000%,   Recall  91.3043%\n",
      "Class 35 ralph_wiggum   :  Precision  94.7368%,   Recall  100.0000%\n",
      "Class 36 selma_bouvier   :  Precision  90.0000%,   Recall  85.7143%\n",
      "Class 37 sideshow_bob   :  Precision  98.3051%,   Recall  98.8636%\n",
      "Class 38 sideshow_mel   :  Precision  100.0000%,   Recall  100.0000%\n",
      "Class 39 snake_jailbird   :  Precision  73.3333%,   Recall  100.0000%\n",
      "Class 40 troy_mcclure   :  Precision  100.0000%,   Recall  41.1765%\n",
      "Class 41 waylon_smithers   :  Precision  97.1429%,   Recall  91.8919%\n",
      "Average precision: 0.9181\n",
      "Average recall: 0.8930\n",
      "\n"
     ]
    },
    {
     "name": "stderr",
     "output_type": "stream",
     "text": [
      "/opt/conda/lib/python3.12/site-packages/sklearn/metrics/_classification.py:1565: UndefinedMetricWarning: Precision is ill-defined and being set to 0.0 in labels with no predicted samples. Use `zero_division` parameter to control this behavior.\n",
      "  _warn_prf(average, modifier, f\"{metric.capitalize()} is\", len(result))\n",
      "/opt/conda/lib/python3.12/site-packages/sklearn/metrics/_classification.py:1565: UndefinedMetricWarning: Precision is ill-defined and being set to 0.0 in labels with no predicted samples. Use `zero_division` parameter to control this behavior.\n",
      "  _warn_prf(average, modifier, f\"{metric.capitalize()} is\", len(result))\n"
     ]
    }
   ],
   "source": [
    "class_precision_and_recall(all_preds, all_labels)"
   ]
  },
  {
   "cell_type": "code",
   "execution_count": 15,
   "metadata": {
    "scrolled": true
   },
   "outputs": [
    {
     "name": "stdout",
     "output_type": "stream",
     "text": [
      "Class 0 abraham_grampa_simpson   :  Accuracy  97.2678%,   F1-Score  0.9807\n",
      "Class 1 agnes_skinner   :  Accuracy  86.9565%,   F1-Score  0.9302\n",
      "Class 2 apu_nahasapeemapetilon   :  Accuracy  98.4000%,   F1-Score  0.9880\n",
      "Class 3 barney_gumble   :  Accuracy  90.9091%,   F1-Score  0.9091\n",
      "Class 4 bart_simpson   :  Accuracy  97.7695%,   F1-Score  0.9651\n",
      "Class 5 carl_carlson   :  Accuracy  100.0000%,   F1-Score  1.0000\n",
      "Class 6 charles_montgomery_burns   :  Accuracy  97.4895%,   F1-Score  0.9433\n",
      "Class 7 chief_wiggum   :  Accuracy  98.4848%,   F1-Score  0.9606\n",
      "Class 8 cletus_spuckler   :  Accuracy  96.0000%,   F1-Score  0.9600\n",
      "Class 9 comic_book_guy   :  Accuracy  98.9362%,   F1-Score  0.9637\n",
      "Class 10 disco_stu   :  Accuracy  75.0000%,   F1-Score  0.8571\n",
      "Class 11 edna_krabappel   :  Accuracy  96.7391%,   F1-Score  0.9570\n",
      "Class 12 fat_tony   :  Accuracy  57.1429%,   F1-Score  0.7059\n",
      "Class 13 gil   :  Accuracy  85.7143%,   F1-Score  0.9231\n",
      "Class 14 groundskeeper_willie   :  Accuracy  96.0000%,   F1-Score  0.9412\n",
      "Class 15 homer_simpson   :  Accuracy  96.4444%,   F1-Score  0.9644\n",
      "Class 16 kent_brockman   :  Accuracy  99.0000%,   F1-Score  0.9706\n",
      "Class 17 krusty_the_clown   :  Accuracy  99.1736%,   F1-Score  0.9776\n",
      "Class 18 lenny_leonard   :  Accuracy  100.0000%,   F1-Score  0.9538\n",
      "Class 19 lionel_hutz   :  Accuracy  0.0000%,   F1-Score  0.0000\n",
      "Class 20 lisa_simpson   :  Accuracy  96.3100%,   F1-Score  0.9721\n",
      "Class 21 maggie_simpson   :  Accuracy  84.6154%,   F1-Score  0.8800\n",
      "Class 22 marge_simpson   :  Accuracy  98.4556%,   F1-Score  0.9846\n",
      "Class 23 martin_prince   :  Accuracy  80.0000%,   F1-Score  0.8276\n",
      "Class 24 mayor_quimby   :  Accuracy  92.0000%,   F1-Score  0.9293\n",
      "Class 25 milhouse_van_houten   :  Accuracy  99.0741%,   F1-Score  0.9930\n",
      "Class 26 miss_hoover   :  Accuracy  52.6316%,   F1-Score  0.6897\n",
      "Class 27 moe_szyslak   :  Accuracy  93.1271%,   F1-Score  0.9542\n",
      "Class 28 ned_flanders   :  Accuracy  96.9072%,   F1-Score  0.9741\n",
      "Class 29 nelson_muntz   :  Accuracy  100.0000%,   F1-Score  0.9172\n",
      "Class 30 otto_mann   :  Accuracy  90.9091%,   F1-Score  0.9524\n",
      "Class 31 patty_bouvier   :  Accuracy  93.3333%,   F1-Score  0.7568\n",
      "Class 32 principal_skinner   :  Accuracy  96.6527%,   F1-Score  0.9706\n",
      "Class 33 professor_john_frink   :  Accuracy  100.0000%,   F1-Score  0.9375\n",
      "Class 34 rainier_wolfcastle   :  Accuracy  91.3043%,   F1-Score  0.8936\n",
      "Class 35 ralph_wiggum   :  Accuracy  100.0000%,   F1-Score  0.9730\n",
      "Class 36 selma_bouvier   :  Accuracy  85.7143%,   F1-Score  0.8780\n",
      "Class 37 sideshow_bob   :  Accuracy  98.8636%,   F1-Score  0.9858\n",
      "Class 38 sideshow_mel   :  Accuracy  100.0000%,   F1-Score  1.0000\n",
      "Class 39 snake_jailbird   :  Accuracy  100.0000%,   F1-Score  0.8462\n",
      "Class 40 troy_mcclure   :  Accuracy  41.1765%,   F1-Score  0.5833\n",
      "Class 41 waylon_smithers   :  Accuracy  91.8919%,   F1-Score  0.9444\n",
      "Average accuracy: 0.8929510615682601\n",
      "\n",
      "Average F1-Score: 0.9564683321326364\n"
     ]
    }
   ],
   "source": [
    "class_accuracy_and_f1(all_preds, all_labels)"
   ]
  },
  {
   "cell_type": "code",
   "execution_count": null,
   "metadata": {},
   "outputs": [],
   "source": [
    "def print_prediction(model, test_data, class_names):\n",
    "  model.eval()\n",
    "  fig = plt.figure(figsize=(12,12))\n",
    "  rows, cols = 4, 4\n",
    "  for i in range (1, rows*cols+1):\n",
    "    random_idx = torch.randint(0, len(test_data), size=[1]).item()\n",
    "    img, label = test_data[random_idx]\n",
    "    img = img.unsqueeze(0)\n",
    "    img = img.to(device)\n",
    "    pred_label = model(img).argmax(dim=1)\n",
    "    ax = fig.add_subplot(rows, cols, i)\n",
    "    ax.imshow(img.squeeze().cpu().numpy().transpose(1, 2, 0), cmap=\"gray\")\n",
    "    ax.set_title(f\"true: {class_names[label]} \\npred: {class_names[pred_label]}\")\n",
    "    ax.axis('off');"
   ]
  },
  {
   "cell_type": "code",
   "execution_count": null,
   "metadata": {},
   "outputs": [],
   "source": [
    "print_prediction(model, test_dataset, test_dataset.classes)"
   ]
  },
  {
   "cell_type": "code",
   "execution_count": null,
   "metadata": {},
   "outputs": [],
   "source": []
  }
 ],
 "metadata": {
  "kernelspec": {
   "display_name": "Python 3 (ipykernel)",
   "language": "python",
   "name": "python3"
  },
  "language_info": {
   "codemirror_mode": {
    "name": "ipython",
    "version": 3
   },
   "file_extension": ".py",
   "mimetype": "text/x-python",
   "name": "python",
   "nbconvert_exporter": "python",
   "pygments_lexer": "ipython3",
   "version": "3.12.9"
  }
 },
 "nbformat": 4,
 "nbformat_minor": 4
}
